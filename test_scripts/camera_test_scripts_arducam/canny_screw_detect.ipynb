{
 "cells": [
  {
   "cell_type": "code",
   "execution_count": 1,
   "id": "hindu-computer",
   "metadata": {},
   "outputs": [],
   "source": [
    "import cv2\n",
    "import numpy as np\n",
    "from matplotlib import pyplot as plt"
   ]
  },
  {
   "cell_type": "code",
   "execution_count": 2,
   "id": "proper-luther",
   "metadata": {},
   "outputs": [],
   "source": [
    "def showImage(img, title):\n",
    "    img = cv2.cvtColor(img, cv2.COLOR_BGR2RGB) #Converts from one colour space to the other\n",
    "    \n",
    "    # plt.imshow(img)\n",
    "    # plt.xticks([]), plt.yticks([])  # Hides the graph ticks and x / y axis\n",
    "    # plt.show()\n",
    "    cv2.imshow(title, img)\n",
    "    cv2.waitKey(0)\n"
   ]
  },
  {
   "cell_type": "code",
   "execution_count": 3,
   "id": "visible-helmet",
   "metadata": {},
   "outputs": [],
   "source": [
    "raw_image = cv2.imread('images/Light Panel Cropped.jpg')\n",
    "showImage(raw_image, \"raw_image\")\n",
    "\n",
    "blurred_img = cv2.GaussianBlur(raw_image,(9,9), cv2.BORDER_DEFAULT)"
   ]
  },
  {
   "cell_type": "code",
   "execution_count": 4,
   "id": "political-viewer",
   "metadata": {},
   "outputs": [],
   "source": [
    "img_yuv = cv2.cvtColor(blurred_img, cv2.COLOR_BGR2YUV)\n",
    "\n",
    "# equalize the histogram of the Y channel\n",
    "img_yuv[:,:,0] = cv2.equalizeHist(img_yuv[:,:,0])\n",
    "\n",
    "# convert the YUV image back to RGB format\n",
    "equalised_image = cv2.cvtColor(img_yuv, cv2.COLOR_YUV2BGR)\n",
    "showImage(equalised_image, \"Equalised\")"
   ]
  },
  {
   "cell_type": "code",
   "execution_count": 5,
   "id": "announced-walter",
   "metadata": {},
   "outputs": [],
   "source": [
    "edge_detected_image = cv2.Canny(equalised_image, 30, 35)\n",
    "showImage(edge_detected_image, \"Canny Edges\")\n",
    "\n",
    "cv2.imshow(\"Canny Edges\", edge_detected_image)"
   ]
  },
  {
   "cell_type": "code",
   "execution_count": 6,
   "id": "loved-hierarchy",
   "metadata": {},
   "outputs": [],
   "source": [
    "contours, _= cv2.findContours(edge_detected_image, cv2.RETR_TREE, cv2.CHAIN_APPROX_SIMPLE)"
   ]
  },
  {
   "cell_type": "code",
   "execution_count": 7,
   "id": "finnish-relationship",
   "metadata": {},
   "outputs": [],
   "source": [
    "contour_list = []\n",
    "for contour in contours:\n",
    "    approx = cv2.approxPolyDP(contour,0.01*cv2.arcLength(contour,True),True)\n",
    "    area = cv2.contourArea(contour)\n",
    "    if (len(approx) > 50) & (area > 200):\n",
    "        contour_list.append(contour)"
   ]
  },
  {
   "cell_type": "code",
   "execution_count": null,
   "id": "adapted-regard",
   "metadata": {
    "pycharm": {
     "is_executing": true
    }
   },
   "outputs": [
    {
     "name": "stdout",
     "output_type": "stream",
     "text": [
      "[]\n"
     ]
    }
   ],
   "source": [
    "print(contour_list)\n",
    "cv2.drawContours(raw_image, contour_list,  -1, (255,0,0), 3)\n",
    "showImage(raw_image, \"Overlayed Edges\")"
   ]
  },
  {
   "cell_type": "code",
   "execution_count": null,
   "id": "special-entertainment",
   "metadata": {
    "pycharm": {
     "is_executing": true
    }
   },
   "outputs": [],
   "source": []
  }
 ],
 "metadata": {
  "kernelspec": {
   "display_name": "rr",
   "language": "python",
   "name": "recycle_robot"
  },
  "language_info": {
   "codemirror_mode": {
    "name": "ipython",
    "version": 3
   },
   "file_extension": ".py",
   "mimetype": "text/x-python",
   "name": "python",
   "nbconvert_exporter": "python",
   "pygments_lexer": "ipython3",
   "version": "3.7.10"
  }
 },
 "nbformat": 4,
 "nbformat_minor": 5
}